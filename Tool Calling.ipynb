{
 "cells": [
  {
   "cell_type": "code",
   "execution_count": null,
   "id": "02235d0a-0942-45b2-a499-81cc33564dc5",
   "metadata": {},
   "outputs": [],
   "source": [
    "%pip install -U langgraph langchain-tavily langgraph-checkpoint-sqlite"
   ]
  },
  {
   "cell_type": "code",
   "execution_count": 8,
   "id": "fc9cb80e-deb7-4f55-9caf-36f24dd758ee",
   "metadata": {},
   "outputs": [
    {
     "name": "stdout",
     "output_type": "stream",
     "text": [
      "Note: you may need to restart the kernel to use updated packages.\n"
     ]
    }
   ],
   "source": [
    "pip install -qU \"langchain[google-genai]\""
   ]
  },
  {
   "cell_type": "code",
   "execution_count": null,
   "id": "014bea81-4a40-4144-a378-a0c95e1121f8",
   "metadata": {},
   "outputs": [],
   "source": [
    "##  ------ api for langsmith, tavily tool(serach engine),  gemini"
   ]
  },
  {
   "cell_type": "code",
   "execution_count": 1,
   "id": "12f7cca6-9b72-4bbb-a2a8-829698dbcda6",
   "metadata": {},
   "outputs": [
    {
     "name": "stdin",
     "output_type": "stream",
     "text": [
      " ········\n",
      " ········\n",
      " ········\n"
     ]
    }
   ],
   "source": [
    "import getpass\n",
    "import os\n",
    "\n",
    "os.environ[\"LANGSMITH_TRACING\"] = \"true\"\n",
    "os.environ[\"LANGSMITH_API_KEY\"] = getpass.getpass()\n",
    "os.environ[\"TAVILY_API_KEY\"] = getpass.getpass()\n",
    "os.environ[\"GOOGLE_API_KEY\"] = getpass.getpass()"
   ]
  },
  {
   "cell_type": "code",
   "execution_count": 3,
   "id": "144233c0-9d00-4b21-9249-f04507f06c65",
   "metadata": {},
   "outputs": [
    {
     "name": "stdout",
     "output_type": "stream",
     "text": [
      "{'query': 'Who is gandhi', 'follow_up_questions': None, 'answer': None, 'images': [], 'results': [{'url': 'https://en.wikipedia.org/wiki/Mahatma_Gandhi', 'title': 'Mahatma Gandhi - Wikipedia', 'content': \"**Mohandas Karamchand Gandhi** (2 October 1869– 30 January 1948) was an Indian lawyer, anti-colonial nationalist, and political ethicist who employed nonviolent resistance to lead the successful campaign for India's independence from British rule.\", 'score': 0.8684817, 'raw_content': None}, {'url': 'https://www.britannica.com/biography/Mahatma-Gandhi', 'title': 'Mahatma Gandhi | Biography, Education, Religion ... - Britannica', 'content': 'Mahatma Gandhi | Biography, Education, Religion, Accomplishments, Death, & Facts | Britannica Mahatma Gandhi Mahatma Gandhi Timeline Gandhi and Indian History Mahatma Gandhi (more) Mahatma Gandhi His family stayed in India while Gandhi went to London in 1888 to study law and to South Africa in 1893 to practice it. Mahatma Gandhi (born October 2, 1869, Porbandar, India—died January 30, 1948, Delhi) was an Indian lawyer, politician, social activist, and writer who became the leader of the Indian Independence Movement against British rule. Sojourn in England and return to India of Mahatma Gandhi \"Mahatma Gandhi\". Encyclopedia Britannica, 9 May. 2025, https://www.britannica.com/biography/Mahatma-Gandhi. https://www.britannica.com/biography/Mahatma-Gandhi Cultural India - History of India - Biography of Mahatma Gandhi Gandhi Mahatma Gandhi - Student Encyclopedia (Ages 11 and up)', 'score': 0.7161595, 'raw_content': None}, {'url': 'https://www.theguardian.com/world/1948/jan/31/india.fromthearchive1', 'title': 'Mahatma Gandhi | India | The Guardian', 'content': 'Mahatma Gandhi Monhandas Karamchand Gandhi was born in the small town of Porbandar, on the west coast of India, on October 2 1869. This teaching remained paramount with Gandhi. That visit changed the whole course of his life. He founded a religious retreat on Tolstoyan lines near Ahmedabad, the Viceroy conferred on him the Kalsar-Hind Gold Medal for distinguished humanitarian work in South Africa, and, by general consent, he began to be called by the name Mahatma, which means literally \"Great Soul.\"', 'score': 0.6122407, 'raw_content': None}, {'url': 'https://www.history.com/articles/mahatma-gandhi', 'title': 'Mohandas Gandhi - Biography, Facts & Beliefs - History.com', 'content': 'Revered the world over for his nonviolent philosophy of passive resistance, Mohandas Karamchand Gandhi was known to his many followers as Mahatma.', 'score': 0.5559422, 'raw_content': None}], 'response_time': 0.9}\n"
     ]
    }
   ],
   "source": [
    "## creating tool\n",
    "\n",
    "from langchain_tavily import TavilySearch\n",
    "\n",
    "search = TavilySearch(\n",
    "    name=\"weather_search\",\n",
    "    description=\"Use this tool to look up current weather in a specific location. Only use it for weather-related questions. Else answer by your own\"\n",
    ")\n",
    "search_results = search.invoke(\"Who is gandhi\")\n",
    "print(search_results)\n",
    "\n",
    "\n",
    "tools = [search]"
   ]
  },
  {
   "cell_type": "code",
   "execution_count": 4,
   "id": "66c0e446-0123-464d-baf8-4fda01d18e60",
   "metadata": {},
   "outputs": [],
   "source": [
    "# llm\n",
    "\n",
    "from langchain.chat_models import init_chat_model\n",
    "\n",
    "model = init_chat_model(\"gemini-2.0-flash\", model_provider=\"google_genai\")"
   ]
  },
  {
   "cell_type": "code",
   "execution_count": 5,
   "id": "46498a68-7876-4745-84ca-00d69c137eb4",
   "metadata": {},
   "outputs": [
    {
     "data": {
      "text/plain": [
       "'Hi there! How can I help you today?'"
      ]
     },
     "execution_count": 5,
     "metadata": {},
     "output_type": "execute_result"
    }
   ],
   "source": [
    "query = \"Hi!\"\n",
    "response = model.invoke([{\"role\": \"user\", \"content\": query}])\n",
    "response.text()"
   ]
  },
  {
   "cell_type": "code",
   "execution_count": 6,
   "id": "51598281-7d80-4fa7-9744-aad49f5a29cb",
   "metadata": {},
   "outputs": [],
   "source": [
    "##------------ binding model with tools-------------------------##\n",
    "\n",
    "model_with_tools = model.bind_tools(tools)"
   ]
  },
  {
   "cell_type": "code",
   "execution_count": 7,
   "id": "7bb61700-ebe2-4b32-809b-d7c540b6ec6d",
   "metadata": {},
   "outputs": [
    {
     "name": "stdout",
     "output_type": "stream",
     "text": [
      "Message content: Hi there! How can I help you today?\n",
      "\n",
      "Tool calls: []\n"
     ]
    }
   ],
   "source": [
    "##------------ model with tool and there was no tool call --------------------------##\n",
    "\n",
    "\n",
    "query = \"Hi!\"\n",
    "response = model_with_tools.invoke([{\"role\": \"user\", \"content\": query}])\n",
    "\n",
    "print(f\"Message content: {response.text()}\\n\")\n",
    "print(f\"Tool calls: {response.tool_calls}\")"
   ]
  },
  {
   "cell_type": "code",
   "execution_count": 8,
   "id": "6fa12d7e-e63f-4f90-a602-1c52bea2ca86",
   "metadata": {},
   "outputs": [
    {
     "name": "stdout",
     "output_type": "stream",
     "text": [
      "Message content: \n",
      "\n",
      "Tool calls: [{'name': 'weather_search', 'args': {'query': 'weather in chennai'}, 'id': '33ce1855-505a-4ebe-a8a9-ec7da10b9959', 'type': 'tool_call'}]\n"
     ]
    }
   ],
   "source": [
    "##------------ model with tool and there was tool call --------------------------##\n",
    "\n",
    "user_msg=\"what is the weather in chennai\"\n",
    "query=f\"{user_msg}\"\n",
    "response = model_with_tools.invoke([{\"role\": \"user\", \"content\": query}])\n",
    "\n",
    "print(f\"Message content: {response.text()}\\n\")\n",
    "print(f\"Tool calls: {response.tool_calls}\")"
   ]
  },
  {
   "cell_type": "code",
   "execution_count": 10,
   "id": "67686d27-86c6-40ad-8b82-68ebd68d74f6",
   "metadata": {},
   "outputs": [],
   "source": [
    "##-------------- creating agent---------------##\n",
    "\n",
    "from langgraph.prebuilt import create_react_agent\n",
    "\n",
    "agent_executor = create_react_agent(model, tools)"
   ]
  },
  {
   "cell_type": "code",
   "execution_count": 12,
   "id": "2c63984a-5e27-4164-8783-f04aaba114a1",
   "metadata": {},
   "outputs": [
    {
     "name": "stdout",
     "output_type": "stream",
     "text": [
      "================================\u001b[1m Human Message \u001b[0m=================================\n",
      "\n",
      "Hii\n",
      "==================================\u001b[1m Ai Message \u001b[0m==================================\n",
      "\n",
      "Hello! How can I help you today?\n"
     ]
    }
   ],
   "source": [
    "#--------invoking the agent and no tool call---------------##\n",
    "query=\"Hii\"\n",
    "input_message = {\"role\": \"user\", \"content\":query}\n",
    "response = agent_executor.invoke({\"messages\": [input_message]})\n",
    "\n",
    "for message in response[\"messages\"]:\n",
    "    message.pretty_print()"
   ]
  },
  {
   "cell_type": "code",
   "execution_count": 14,
   "id": "9cc98961-5257-4c09-b370-d7ca3dbcc077",
   "metadata": {},
   "outputs": [
    {
     "name": "stdout",
     "output_type": "stream",
     "text": [
      "================================\u001b[1m Human Message \u001b[0m=================================\n",
      "\n",
      "weather in paris\n",
      "==================================\u001b[1m Ai Message \u001b[0m==================================\n",
      "Tool Calls:\n",
      "  weather_search (4b38aee5-1ed9-480b-93c9-045ab9e16cc4)\n",
      " Call ID: 4b38aee5-1ed9-480b-93c9-045ab9e16cc4\n",
      "  Args:\n",
      "    query: weather in paris\n",
      "=================================\u001b[1m Tool Message \u001b[0m=================================\n",
      "Name: weather_search\n",
      "\n",
      "{\"query\": \"weather in paris\", \"follow_up_questions\": null, \"answer\": null, \"images\": [], \"results\": [{\"title\": \"Weather in Paris\", \"url\": \"https://www.weatherapi.com/\", \"content\": \"{'location': {'name': 'Paris', 'region': 'Ile-de-France', 'country': 'France', 'lat': 48.8667, 'lon': 2.3333, 'tz_id': 'Europe/Paris', 'localtime_epoch': 1751877803, 'localtime': '2025-07-07 10:43'}, 'current': {'last_updated_epoch': 1751877000, 'last_updated': '2025-07-07 10:30', 'temp_c': 15.3, 'temp_f': 59.5, 'is_day': 1, 'condition': {'text': 'Moderate or heavy rain with thunder', 'icon': '//cdn.weatherapi.com/weather/64x64/day/389.png', 'code': 1276}, 'wind_mph': 7.4, 'wind_kph': 11.9, 'wind_degree': 304, 'wind_dir': 'NW', 'pressure_mb': 1008.0, 'pressure_in': 29.77, 'precip_mm': 4.71, 'precip_in': 0.19, 'humidity': 94, 'cloud': 100, 'feelslike_c': 15.3, 'feelslike_f': 59.5, 'windchill_c': 13.0, 'windchill_f': 55.3, 'heatindex_c': 13.8, 'heatindex_f': 56.9, 'dewpoint_c': 13.3, 'dewpoint_f': 55.9, 'vis_km': 10.0, 'vis_miles': 6.0, 'uv': 0.4, 'gust_mph': 10.2, 'gust_kph': 16.5}}\", \"score\": 0.9958509, \"raw_content\": null}, {\"url\": \"https://www.wunderground.com/weather/fr/paris\", \"title\": \"Paris, France Weather Conditions | Weather Underground\", \"content\": \"Sensor Network Maps & Radar Severe Weather News & Blogs Mobile Apps Paris, France Weather Conditions_star_rate__home_ 61 °F Saint-Merri Station|Report Report Station You are about to report this weather station for bad data. Personal Weather Station Nearby Weather Stations Tomorrow's temperature is forecast to be NEARLY THE SAME as today. Actual Time Stations Nearby Weather Stations Weather Data APIs The time period when the sun is no more than 6 degrees below the horizon at either sunrise or sunset. The time period when the sun is between 6 and 12 degrees below the horizon at either sunrise or sunset. The sun does not contribute to the illumination of the sky before this time in the morning, or after this time in the evening.\", \"score\": 0.98589, \"raw_content\": null}, {\"url\": \"https://www.accuweather.com/en/fr/paris/623/july-weather/623\", \"title\": \"Monthly - Paris, Ville de Paris, France Monthly Weather | AccuWeather\", \"content\": \"Paris, Ville de Paris, France Monthly Weather | AccuWeather Location News Videos ### Warnings### Data Suite### Newsletters### Advertising### Superior Accuracy™ ### Hurricane Tracker### Severe Weather### Radar & Maps### News### Video Weather News How the Air India plane came crashing to earth 2 days ago Image 1Severe Weather North-central US faces daily bouts of severe weather 34 minutes ago Image 2Weather Forecasts More stormy downpours for northeast US, but big heat is on horizon 32 minutes ago Image 3Weather Forecasts Denver to hit 100 as heat surges to new heights in central US 30 minutes ago Image 4Weather News At least 8 dead in San Antonio after months of rain fell in hours 2 days ago Image 5More Stories\", \"score\": 0.98214, \"raw_content\": null}, {\"url\": \"https://en.climate-data.org/europe/france/ile-de-france/paris-44/t/july-7/\", \"title\": \"Weather Paris in July 2025: Temperature & Climate\", \"content\": \"# Paris Weather in July ## Paris weather in July |  | Temperature July | 19.8°C | 67.6°F |  | Precipitation / Rainfall July | 60mm | 2.4 inches | |  | Temperature July | 19.8°C | 67.6°F | | 24.2°C | 75.6°F ||  | Temperature July min. | July | 19.8  (67.6) | 15  (59) | 24.2  (75.6) | 60  (2.4) | 65% | 8 | 10.0 | |  | January | February | March | April | May | June | July | August | September | October | November | December | ## What are the temperatures in Paris in july? Nights in Paris during July are cooler with an average low temperature of approximately 59°F (15°C). Paris in July  \", \"score\": 0.97646, \"raw_content\": null}, {\"url\": \"https://www.timeanddate.com/weather/france/paris\", \"title\": \"Weather for Paris, Paris, France - Time and Date\", \"content\": \"Time Zone News Calendar & Holiday News Time Zones Time Zones Home Time Zone Converter Time Zone Map Time Changes Worldwide Time Zone News Calendars Home Calendar & Holiday News Weather Sun Calculator Moon Calculator Countdown for Your Site Calculators Calculators Home Home   Weather   France   Paris Weather Time Zone Weather TodayWeather Hourly14 Day ForecastYesterday/Past WeatherClimate (Averages) Forecast: 61 / 44 °F Location:VillacoublayCurrent Time:May 4, 2025 at 5:39:57 pmLatest Report:May 4, 2025 at 5:00 pmVisibility:N/APressure:29.89 \\\"HgHumidity:51%Dew Point:39 °F | * Updated Sunday, May 4, 2025 3:42:57 pm Paris time - Weather by CustomWeather, © 2025 | 14 day forecast, day-by-dayHour-by-hour forecast for next week More weather last week Sun & Moon times precise to the second. Time Zones Weather Calculators\", \"score\": 0.97499, \"raw_content\": null}], \"response_time\": 3.04}\n",
      "==================================\u001b[1m Ai Message \u001b[0m==================================\n",
      "\n",
      "The weather in Paris, France is currently 15.3°C with moderate or heavy rain and thunder. The wind is coming from the NW at 11.9 kph.\n"
     ]
    }
   ],
   "source": [
    "##-----------------invoking the agent with tool call----------------------##\n",
    "\n",
    "input_message = {\"role\": \"user\", \"content\": \"weather in paris\"}\n",
    "response = agent_executor.invoke({\"messages\": [input_message]})\n",
    "\n",
    "for message in response[\"messages\"]:\n",
    "    message.pretty_print()"
   ]
  },
  {
   "cell_type": "code",
   "execution_count": 15,
   "id": "7bbb6557-e04e-4c1c-bbcb-cdbe4be168dc",
   "metadata": {},
   "outputs": [
    {
     "name": "stdout",
     "output_type": "stream",
     "text": [
      "================================\u001b[1m Human Message \u001b[0m=================================\n",
      "\n",
      "weather in Chennai, India\n",
      "==================================\u001b[1m Ai Message \u001b[0m==================================\n",
      "Tool Calls:\n",
      "  weather_search (5ef3bb95-09f0-4d68-a628-27f23fb6c2c1)\n",
      " Call ID: 5ef3bb95-09f0-4d68-a628-27f23fb6c2c1\n",
      "  Args:\n",
      "    query: weather in Chennai, India\n",
      "=================================\u001b[1m Tool Message \u001b[0m=================================\n",
      "Name: weather_search\n",
      "\n",
      "{\"query\": \"weather in Chennai, India\", \"follow_up_questions\": null, \"answer\": null, \"images\": [], \"results\": [{\"title\": \"Weather in Chennai, India\", \"url\": \"https://www.weatherapi.com/\", \"content\": \"{'location': {'name': 'Chennai', 'region': 'Tamil Nadu', 'country': 'India', 'lat': 13.0833, 'lon': 80.2833, 'tz_id': 'Asia/Kolkata', 'localtime_epoch': 1751879876, 'localtime': '2025-07-07 14:47'}, 'current': {'last_updated_epoch': 1751879700, 'last_updated': '2025-07-07 14:45', 'temp_c': 37.3, 'temp_f': 99.1, 'is_day': 1, 'condition': {'text': 'Partly cloudy', 'icon': '//cdn.weatherapi.com/weather/64x64/day/116.png', 'code': 1003}, 'wind_mph': 14.8, 'wind_kph': 23.8, 'wind_degree': 260, 'wind_dir': 'W', 'pressure_mb': 1003.0, 'pressure_in': 29.62, 'precip_mm': 0.0, 'precip_in': 0.0, 'humidity': 48, 'cloud': 50, 'feelslike_c': 41.5, 'feelslike_f': 106.7, 'windchill_c': 36.5, 'windchill_f': 97.7, 'heatindex_c': 40.0, 'heatindex_f': 103.9, 'dewpoint_c': 19.5, 'dewpoint_f': 67.1, 'vis_km': 6.0, 'vis_miles': 3.0, 'uv': 6.5, 'gust_mph': 23.5, 'gust_kph': 37.8}}\", \"score\": 0.9864164, \"raw_content\": null}, {\"url\": \"https://www.accuweather.com/en/in/chennai/206671/july-weather/206671\", \"title\": \"Chennai, Tamil Nadu, India Monthly Weather - AccuWeather\", \"content\": \"Chennai, Tamil Nadu, India Monthly Weather | AccuWeather Chennai, Tamil Nadu =================== 95°F Location News Videos Chennai Tamil Nadu 95° Chennai, Tamil Nadu Weather ### Warnings### Data Suite### Newsletters### Advertising### Superior Accuracy™ ### Hurricane Tracker### Severe Weather### Radar & Maps### News### Video Severe Weather Storms sweep Northeast, teen struck by lightning in Central Park 33 minutes ago Image 1Weather Forecasts Heat wave to push temps near 100 F across central, eastern US 33 minutes ago Image 2Hurricane Erick to continue as tropical rainstorm following major hurricane 11 hours ago Image 3Astronomy Meteorological summer vs. astronomical summer explained 3 days ago Image 4Weather Forecasts Major cooldown eyes West as fire weather increases for Great Basin 2 hours ago Image 5More Stories\", \"score\": 0.98535, \"raw_content\": null}, {\"url\": \"https://www.weather25.com/asia/india/tamil-nadu/chennai?page=month&month=July\", \"title\": \"Chennai weather in July 2025 - Weather25.com\", \"content\": \"You can expect about 3 to 8 days of rain in Chennai during the month of July. | 20 Partly cloudy 33° /28° | 21 Overcast 34° /28° | 22 Patchy rain possible 32° /27° | 23 Light rain shower 34° /27° | 24 Thundery outbreaks possible 33° /27° | 25 Patchy rain possible 32° /27° | 26 Moderate rain at times 32° /27° | | May | 37° / 30° | 2 | 29 | 0 | 60 mm | Ok | Chennai in May | | June | 36° / 29° | 6 | 24 | 0 | 118 mm | Ok | Chennai in June | | July | 34° / 28° | 5 | 26 | 0 | 140 mm | Ok | Chennai in July |\", \"score\": 0.98407, \"raw_content\": null}, {\"url\": \"https://www.weather2travel.com/india/chennai/july/\", \"title\": \"Chennai weather in July 2025 | India: How hot? - Weather2Travel.com\", \"content\": \"Chennai weather in July 2025 Expect  daytime maximum temperatures of 36°C in Chennai, India in July and extreme heat and humidity based on long-term weather averages. Caribbean Coast The July weather guide for India (Chennai) shows long term weather averages processed from data supplied by CRU (University of East Anglia), the Met Office & the Netherlands Meteorological Institute. The average sea temperature around Chennai in July is 29°C. Does it rain in Chennai in July? There are usually 7 days with some rain in Chennai in July and the average monthly rainfall is 117mm. Chennai July sunrise & sunset times Browse the sunrise and sunset times for Chennai in July 2025.\", \"score\": 0.98034, \"raw_content\": null}, {\"url\": \"https://timesofindia.indiatimes.com/weather/chennai-weather-forecast-today/600017\", \"title\": \"Chennai Weather Forecast 7 Jul 2025 - Times of India\", \"content\": \"Today's Weather in Chennai: In Chennai today, the weather is expected to be Mostly Cloudy with a maximum temperature of 38°C and a minimum of 30°C. Sunrise\", \"score\": 0.97254, \"raw_content\": null}], \"response_time\": 2.67}\n",
      "==================================\u001b[1m Ai Message \u001b[0m==================================\n",
      "\n",
      "The weather in Chennai, India is partly cloudy with a temperature of 37.3°C (99.1°F). It feels like 41.5°C (106.7°F). The wind is blowing from the west at 23.8 kph.\n"
     ]
    }
   ],
   "source": [
    "## stream messages\n",
    "input_message = {\"role\": \"user\", \"content\": \"weather in Chennai, India\"}\n",
    "for step in agent_executor.stream({\"messages\": [input_message]}, stream_mode=\"values\"):\n",
    "    step[\"messages\"][-1].pretty_print()"
   ]
  },
  {
   "cell_type": "code",
   "execution_count": 16,
   "id": "27e3d7e5-d62f-4686-ab8b-7bdc98ff143a",
   "metadata": {},
   "outputs": [
    {
     "name": "stdout",
     "output_type": "stream",
     "text": [
      "The weather in Chennai|, India is partly cloudy with a temperature of 37.3°C (99|.1°F). It feels like 41.5°C (10|6.7°F). The wind is blowing from the west at 23.8 km/h. The humidity is 48%.|"
     ]
    }
   ],
   "source": [
    "## stream tokens\n",
    "\n",
    "for step, metadata in agent_executor.stream(\n",
    "    {\"messages\": [input_message]}, stream_mode=\"messages\"\n",
    "):\n",
    "    if metadata[\"langgraph_node\"] == \"agent\" and (text := step.text()):\n",
    "        print(text, end=\"|\")"
   ]
  },
  {
   "cell_type": "code",
   "execution_count": 17,
   "id": "2e2514bb-bb1a-4ded-adde-3a1c5ff6d3e2",
   "metadata": {},
   "outputs": [],
   "source": [
    "##------------------making the agent which is stateless to keep memory of previous conversations-------------------##\n",
    "\n",
    "from langgraph.checkpoint.memory import MemorySaver\n",
    "\n",
    "memory = MemorySaver()\n",
    "\n"
   ]
  },
  {
   "cell_type": "code",
   "execution_count": 18,
   "id": "f469e6aa-7a10-496c-b7c1-25d0d44cfe90",
   "metadata": {},
   "outputs": [],
   "source": [
    "##----------- now along with model, tool we are passing memory to the agent-----------------##\n",
    "\n",
    "\n",
    "agent_executor = create_react_agent(model, tools, checkpointer=memory)\n",
    "\n",
    "config = {\"configurable\": {\"thread_id\": \"xyc123\"}}"
   ]
  },
  {
   "cell_type": "code",
   "execution_count": 19,
   "id": "f7dbb51f-a22c-4922-9ee1-7c5a28e39442",
   "metadata": {},
   "outputs": [
    {
     "name": "stdout",
     "output_type": "stream",
     "text": [
      "================================\u001b[1m Human Message \u001b[0m=================================\n",
      "\n",
      "Hi, I'm Bob!\n",
      "==================================\u001b[1m Ai Message \u001b[0m==================================\n",
      "\n",
      "Hi Bob! How can I help you today?\n"
     ]
    }
   ],
   "source": [
    "input_message = {\"role\": \"user\", \"content\": \"Hi, I'm Bob!\"}\n",
    "for step in agent_executor.stream(\n",
    "    {\"messages\": [input_message]}, config, stream_mode=\"values\"\n",
    "):\n",
    "    step[\"messages\"][-1].pretty_print()"
   ]
  },
  {
   "cell_type": "code",
   "execution_count": 20,
   "id": "784fde06-f2b3-4a14-8f13-ac6f4e6fa1a3",
   "metadata": {},
   "outputs": [
    {
     "name": "stdout",
     "output_type": "stream",
     "text": [
      "================================\u001b[1m Human Message \u001b[0m=================================\n",
      "\n",
      "What's my name?\n",
      "==================================\u001b[1m Ai Message \u001b[0m==================================\n",
      "\n",
      "Your name is Bob.\n"
     ]
    }
   ],
   "source": [
    "input_message = {\"role\": \"user\", \"content\": \"What's my name?\"}\n",
    "for step in agent_executor.stream(\n",
    "    {\"messages\": [input_message]}, config, stream_mode=\"values\"\n",
    "):\n",
    "    step[\"messages\"][-1].pretty_print()"
   ]
  },
  {
   "cell_type": "code",
   "execution_count": 21,
   "id": "3ae88b28-5d4a-4048-9a40-28422d091d67",
   "metadata": {},
   "outputs": [
    {
     "name": "stdout",
     "output_type": "stream",
     "text": [
      "================================\u001b[1m Human Message \u001b[0m=================================\n",
      "\n",
      "weather in coimbatore\n",
      "==================================\u001b[1m Ai Message \u001b[0m==================================\n",
      "\n",
      "The weather in Coimbatore, India is partly cloudy with a temperature of 32.1°C (89.8°F). The wind is from the WSW at 31.0 kph. The humidity is 56%.\n"
     ]
    }
   ],
   "source": [
    "input_message = {\"role\": \"user\", \"content\": \"weather in coimbatore\"}\n",
    "i=1\n",
    "for step in agent_executor.stream(\n",
    "    {\"messages\": [input_message]}, config, stream_mode=\"values\"\n",
    "):\n",
    "    if(i==1):\n",
    "      step[\"messages\"][-1].pretty_print()\n",
    "    ans=step[\"messages\"][-1]\n",
    "    i+=1\n",
    "ans.pretty_print()"
   ]
  },
  {
   "cell_type": "code",
   "execution_count": null,
   "id": "2780903c-f912-4287-aa15-90f083c7b7e5",
   "metadata": {},
   "outputs": [],
   "source": []
  }
 ],
 "metadata": {
  "kernelspec": {
   "display_name": "Python 3 (ipykernel)",
   "language": "python",
   "name": "python3"
  },
  "language_info": {
   "codemirror_mode": {
    "name": "ipython",
    "version": 3
   },
   "file_extension": ".py",
   "mimetype": "text/x-python",
   "name": "python",
   "nbconvert_exporter": "python",
   "pygments_lexer": "ipython3",
   "version": "3.12.3"
  }
 },
 "nbformat": 4,
 "nbformat_minor": 5
}
